{
 "cells": [
  {
   "cell_type": "markdown",
   "id": "28ccc5cb-adde-4cb8-ad8a-e7d5ac094abe",
   "metadata": {},
   "source": [
    "# ATAC-Seq Analysis for HNSC_Omics_Database\n",
    "\n",
    "This notebook serves as a preliminary exploration and analysis of **Assay for Transposase-Accessible Chromatin using Sequencing (ATAC-Seq)** data. The goal is to generate data that can later be integrated into the **HNSC_Omics_Database**, which focuses on the tumor microenvironment in **Head and Neck Squamous Cell Carcinoma (HNSC)**. Through this pipeline, we aim to identify accessible chromatin regions across the genome, providing insights into regulatory elements like enhancers and promoters that are relevant for understanding cancer biology.\n",
    "\n",
    "### Objectives\n",
    "In this notebook, we will:\n",
    "1. Perform quality control checks on ATAC-Seq reads.\n",
    "2. Align reads to the reference genome.\n",
    "3. Identify peaks (open chromatin regions).\n",
    "4. Annotate peaks with relevant genomic features.\n",
    "5. Format and prepare data for integration into the HNSC_Omics_Database.\n",
    "\n",
    "Each step includes visualizations to interpret the data quality and structure.\n",
    "\n",
    "---\n",
    "\n",
    "## 1. Quality Control (QC) of ATAC-Seq Data\n",
    "\n",
    "Quality control is essential in sequencing data analysis to ensure high-quality reads, which directly impacts the reliability of downstream results. Here, we will use **FastQC** for individual read quality checks and **MultiQC** to compile these reports for all samples.\n",
    "\n",
    "#### Quality Control Steps\n",
    "1. Run FastQC on each sample’s FASTQ file.\n",
    "2. Use MultiQC to aggregate and visualize QC metrics.\n",
    "\n",
    "### Step 1.1: Load Required Libraries and Set Up Environment\n",
    "To begin, we need to load essential libraries and set up paths for our raw data and output directories.\n"
   ]
  },
  {
   "cell_type": "code",
   "execution_count": 16,
   "id": "1010fbd6",
   "metadata": {},
   "outputs": [
    {
     "name": "stderr",
     "output_type": "stream",
     "text": [
      "'getOption(\"repos\")' replaces Bioconductor standard repositories, see\n",
      "'help(\"repositories\", package = \"BiocManager\")' for details.\n",
      "Replacement repositories:\n",
      "    CRAN: https://cloud.r-project.org\n",
      "\n",
      "Bioconductor version 3.19 (BiocManager 1.30.25), R 4.4.1 (2024-06-14)\n",
      "\n",
      "Warning message:\n",
      "“package(s) not installed when version(s) same as or greater than current; use\n",
      "  `force = TRUE` to re-install: 'GEOquery' 'rtracklayer' 'GenomicRanges'”\n",
      "Installation paths not writeable, unable to update packages\n",
      "  path: /usr/lib/R/library\n",
      "  packages:\n",
      "    boot, class, cluster, codetools, foreign, KernSmooth, lattice, MASS,\n",
      "    Matrix, mgcv, nlme, nnet, spatial, survival\n",
      "  path: /usr/local/lib/R/site-library\n",
      "  packages:\n",
      "    commonmark, cpp11, digest, evaluate, glue, jsonlite, knitr, pkgload, ps,\n",
      "    roxygen2, withr, xfun, yaml\n",
      "\n"
     ]
    }
   ],
   "source": [
    "# Install required packages if not already installed\n",
    "if (!requireNamespace(\"BiocManager\", quietly = TRUE)) {\n",
    "    install.packages(\"BiocManager\")\n",
    "}\n",
    "BiocManager::install(c(\"GEOquery\", \"rtracklayer\", \"GenomicRanges\"))\n",
    "\n",
    "# Load necessary libraries\n",
    "library(GEOquery) # To access and parse GEO data\n",
    "library(ggplot2) # For data visualization\n",
    "library(dplyr) # For data manipulation\n",
    "library(GenomicRanges) # For working with genomic ranges\n",
    "\n",
    "# Set the GEO dataset ID for the ATAC-Seq data we want to explore\n",
    "gse_id <- \"GSE135604\""
   ]
  },
  {
   "cell_type": "markdown",
   "id": "80d07978",
   "metadata": {},
   "source": [
    "### Step 1.2: Retrieve and Prepare Metadata\n",
    "\n",
    "We start by downloading metadata from GEO for our dataset of interest. The metadata provides details about each sample, including identifiers, conditions, and associated files.\n"
   ]
  },
  {
   "cell_type": "code",
   "execution_count": 17,
   "id": "0a1db9a4",
   "metadata": {},
   "outputs": [
    {
     "name": "stderr",
     "output_type": "stream",
     "text": [
      "Found 1 file(s)\n",
      "\n",
      "GSE135604_series_matrix.txt.gz\n",
      "\n",
      "Using locally cached version: /tmp/Rtmp9MzO9C/GSE135604_series_matrix.txt.gz\n",
      "\n",
      "Annotation GPL not available, so will use submitter GPL instead\n",
      "\n",
      "Using locally cached version of GPL11154 found here:\n",
      "/tmp/Rtmp9MzO9C/GPL11154.soft.gz \n",
      "\n"
     ]
    },
    {
     "data": {
      "text/html": [
       "<table class=\"dataframe\">\n",
       "<caption>A data.frame: 6 × 46</caption>\n",
       "<thead>\n",
       "\t<tr><th></th><th scope=col>title</th><th scope=col>geo_accession</th><th scope=col>status</th><th scope=col>submission_date</th><th scope=col>last_update_date</th><th scope=col>type</th><th scope=col>channel_count</th><th scope=col>source_name_ch1</th><th scope=col>organism_ch1</th><th scope=col>characteristics_ch1</th><th scope=col>⋯</th><th scope=col>instrument_model</th><th scope=col>library_selection</th><th scope=col>library_source</th><th scope=col>library_strategy</th><th scope=col>relation</th><th scope=col>relation.1</th><th scope=col>supplementary_file_1</th><th scope=col>cell line:ch1</th><th scope=col>replicate:ch1</th><th scope=col>treatment:ch1</th></tr>\n",
       "\t<tr><th></th><th scope=col>&lt;chr&gt;</th><th scope=col>&lt;chr&gt;</th><th scope=col>&lt;chr&gt;</th><th scope=col>&lt;chr&gt;</th><th scope=col>&lt;chr&gt;</th><th scope=col>&lt;chr&gt;</th><th scope=col>&lt;chr&gt;</th><th scope=col>&lt;chr&gt;</th><th scope=col>&lt;chr&gt;</th><th scope=col>&lt;chr&gt;</th><th scope=col>⋯</th><th scope=col>&lt;chr&gt;</th><th scope=col>&lt;chr&gt;</th><th scope=col>&lt;chr&gt;</th><th scope=col>&lt;chr&gt;</th><th scope=col>&lt;chr&gt;</th><th scope=col>&lt;chr&gt;</th><th scope=col>&lt;chr&gt;</th><th scope=col>&lt;chr&gt;</th><th scope=col>&lt;chr&gt;</th><th scope=col>&lt;chr&gt;</th></tr>\n",
       "</thead>\n",
       "<tbody>\n",
       "\t<tr><th scope=row>GSM4021913</th><td>SCC1CTX_replicate1</td><td>GSM4021913</td><td>Public on May 04 2020</td><td>Aug 08 2019</td><td>May 05 2020</td><td>SRA</td><td>1</td><td>HNSCC cell line</td><td>Homo sapiens</td><td>cell line: HNSCC cell line SCC1</td><td>⋯</td><td>Illumina HiSeq 2000</td><td>other</td><td>genomic</td><td>ATAC-seq</td><td>BioSample: https://www.ncbi.nlm.nih.gov/biosample/SAMN12541247</td><td>SRA: https://www.ncbi.nlm.nih.gov/sra?term=SRX6685295</td><td>ftp://ftp.ncbi.nlm.nih.gov/geo/samples/GSM4021nnn/GSM4021913/suppl/GSM4021913_SCC1CTX1_Peaks.broadPeak.gz</td><td>HNSCC cell line SCC1</td><td>1</td><td>cetuximab</td></tr>\n",
       "\t<tr><th scope=row>GSM4021914</th><td>SCC1CTX_replicate2</td><td>GSM4021914</td><td>Public on May 04 2020</td><td>Aug 08 2019</td><td>May 05 2020</td><td>SRA</td><td>1</td><td>HNSCC cell line</td><td>Homo sapiens</td><td>cell line: HNSCC cell line SCC1</td><td>⋯</td><td>Illumina HiSeq 2000</td><td>other</td><td>genomic</td><td>ATAC-seq</td><td>BioSample: https://www.ncbi.nlm.nih.gov/biosample/SAMN12541246</td><td>SRA: https://www.ncbi.nlm.nih.gov/sra?term=SRX6685296</td><td>ftp://ftp.ncbi.nlm.nih.gov/geo/samples/GSM4021nnn/GSM4021914/suppl/GSM4021914_SCC1CTX2_Peaks.broadPeak.gz</td><td>HNSCC cell line SCC1</td><td>2</td><td>cetuximab</td></tr>\n",
       "\t<tr><th scope=row>GSM4021915</th><td>SCC1CTX_replicate3</td><td>GSM4021915</td><td>Public on May 04 2020</td><td>Aug 08 2019</td><td>May 05 2020</td><td>SRA</td><td>1</td><td>HNSCC cell line</td><td>Homo sapiens</td><td>cell line: HNSCC cell line SCC1</td><td>⋯</td><td>Illumina HiSeq 2000</td><td>other</td><td>genomic</td><td>ATAC-seq</td><td>BioSample: https://www.ncbi.nlm.nih.gov/biosample/SAMN12541245</td><td>SRA: https://www.ncbi.nlm.nih.gov/sra?term=SRX6685297</td><td>ftp://ftp.ncbi.nlm.nih.gov/geo/samples/GSM4021nnn/GSM4021915/suppl/GSM4021915_SCC1CTX3_Peaks.broadPeak.gz</td><td>HNSCC cell line SCC1</td><td>3</td><td>cetuximab</td></tr>\n",
       "\t<tr><th scope=row>GSM4021916</th><td>SCC1PBS_replicate1</td><td>GSM4021916</td><td>Public on May 04 2020</td><td>Aug 08 2019</td><td>May 05 2020</td><td>SRA</td><td>1</td><td>HNSCC cell line</td><td>Homo sapiens</td><td>cell line: HNSCC cell line SCC1</td><td>⋯</td><td>Illumina HiSeq 2000</td><td>other</td><td>genomic</td><td>ATAC-seq</td><td>BioSample: https://www.ncbi.nlm.nih.gov/biosample/SAMN12541244</td><td>SRA: https://www.ncbi.nlm.nih.gov/sra?term=SRX6685298</td><td>ftp://ftp.ncbi.nlm.nih.gov/geo/samples/GSM4021nnn/GSM4021916/suppl/GSM4021916_SCC1PBS1_Peaks.broadPeak.gz</td><td>HNSCC cell line SCC1</td><td>1</td><td>PBS      </td></tr>\n",
       "\t<tr><th scope=row>GSM4021917</th><td>SCC1PBS_replicate2</td><td>GSM4021917</td><td>Public on May 04 2020</td><td>Aug 08 2019</td><td>May 04 2020</td><td>SRA</td><td>1</td><td>HNSCC cell line</td><td>Homo sapiens</td><td>cell line: HNSCC cell line SCC1</td><td>⋯</td><td>Illumina HiSeq 2000</td><td>other</td><td>genomic</td><td>ATAC-seq</td><td>BioSample: https://www.ncbi.nlm.nih.gov/biosample/SAMN12541243</td><td>SRA: https://www.ncbi.nlm.nih.gov/sra?term=SRX6685299</td><td>NONE                                                                                                     </td><td>HNSCC cell line SCC1</td><td>2</td><td>PBS      </td></tr>\n",
       "\t<tr><th scope=row>GSM4021918</th><td>SCC1PBS_replicate3</td><td>GSM4021918</td><td>Public on May 04 2020</td><td>Aug 08 2019</td><td>May 05 2020</td><td>SRA</td><td>1</td><td>HNSCC cell line</td><td>Homo sapiens</td><td>cell line: HNSCC cell line SCC1</td><td>⋯</td><td>Illumina HiSeq 2000</td><td>other</td><td>genomic</td><td>ATAC-seq</td><td>BioSample: https://www.ncbi.nlm.nih.gov/biosample/SAMN12541242</td><td>SRA: https://www.ncbi.nlm.nih.gov/sra?term=SRX6685300</td><td>ftp://ftp.ncbi.nlm.nih.gov/geo/samples/GSM4021nnn/GSM4021918/suppl/GSM4021918_SCC1PBS3_Peaks.broadPeak.gz</td><td>HNSCC cell line SCC1</td><td>3</td><td>PBS      </td></tr>\n",
       "</tbody>\n",
       "</table>\n"
      ],
      "text/latex": [
       "A data.frame: 6 × 46\n",
       "\\begin{tabular}{r|lllllllllllllllllllll}\n",
       "  & title & geo\\_accession & status & submission\\_date & last\\_update\\_date & type & channel\\_count & source\\_name\\_ch1 & organism\\_ch1 & characteristics\\_ch1 & ⋯ & instrument\\_model & library\\_selection & library\\_source & library\\_strategy & relation & relation.1 & supplementary\\_file\\_1 & cell line:ch1 & replicate:ch1 & treatment:ch1\\\\\n",
       "  & <chr> & <chr> & <chr> & <chr> & <chr> & <chr> & <chr> & <chr> & <chr> & <chr> & ⋯ & <chr> & <chr> & <chr> & <chr> & <chr> & <chr> & <chr> & <chr> & <chr> & <chr>\\\\\n",
       "\\hline\n",
       "\tGSM4021913 & SCC1CTX\\_replicate1 & GSM4021913 & Public on May 04 2020 & Aug 08 2019 & May 05 2020 & SRA & 1 & HNSCC cell line & Homo sapiens & cell line: HNSCC cell line SCC1 & ⋯ & Illumina HiSeq 2000 & other & genomic & ATAC-seq & BioSample: https://www.ncbi.nlm.nih.gov/biosample/SAMN12541247 & SRA: https://www.ncbi.nlm.nih.gov/sra?term=SRX6685295 & ftp://ftp.ncbi.nlm.nih.gov/geo/samples/GSM4021nnn/GSM4021913/suppl/GSM4021913\\_SCC1CTX1\\_Peaks.broadPeak.gz & HNSCC cell line SCC1 & 1 & cetuximab\\\\\n",
       "\tGSM4021914 & SCC1CTX\\_replicate2 & GSM4021914 & Public on May 04 2020 & Aug 08 2019 & May 05 2020 & SRA & 1 & HNSCC cell line & Homo sapiens & cell line: HNSCC cell line SCC1 & ⋯ & Illumina HiSeq 2000 & other & genomic & ATAC-seq & BioSample: https://www.ncbi.nlm.nih.gov/biosample/SAMN12541246 & SRA: https://www.ncbi.nlm.nih.gov/sra?term=SRX6685296 & ftp://ftp.ncbi.nlm.nih.gov/geo/samples/GSM4021nnn/GSM4021914/suppl/GSM4021914\\_SCC1CTX2\\_Peaks.broadPeak.gz & HNSCC cell line SCC1 & 2 & cetuximab\\\\\n",
       "\tGSM4021915 & SCC1CTX\\_replicate3 & GSM4021915 & Public on May 04 2020 & Aug 08 2019 & May 05 2020 & SRA & 1 & HNSCC cell line & Homo sapiens & cell line: HNSCC cell line SCC1 & ⋯ & Illumina HiSeq 2000 & other & genomic & ATAC-seq & BioSample: https://www.ncbi.nlm.nih.gov/biosample/SAMN12541245 & SRA: https://www.ncbi.nlm.nih.gov/sra?term=SRX6685297 & ftp://ftp.ncbi.nlm.nih.gov/geo/samples/GSM4021nnn/GSM4021915/suppl/GSM4021915\\_SCC1CTX3\\_Peaks.broadPeak.gz & HNSCC cell line SCC1 & 3 & cetuximab\\\\\n",
       "\tGSM4021916 & SCC1PBS\\_replicate1 & GSM4021916 & Public on May 04 2020 & Aug 08 2019 & May 05 2020 & SRA & 1 & HNSCC cell line & Homo sapiens & cell line: HNSCC cell line SCC1 & ⋯ & Illumina HiSeq 2000 & other & genomic & ATAC-seq & BioSample: https://www.ncbi.nlm.nih.gov/biosample/SAMN12541244 & SRA: https://www.ncbi.nlm.nih.gov/sra?term=SRX6685298 & ftp://ftp.ncbi.nlm.nih.gov/geo/samples/GSM4021nnn/GSM4021916/suppl/GSM4021916\\_SCC1PBS1\\_Peaks.broadPeak.gz & HNSCC cell line SCC1 & 1 & PBS      \\\\\n",
       "\tGSM4021917 & SCC1PBS\\_replicate2 & GSM4021917 & Public on May 04 2020 & Aug 08 2019 & May 04 2020 & SRA & 1 & HNSCC cell line & Homo sapiens & cell line: HNSCC cell line SCC1 & ⋯ & Illumina HiSeq 2000 & other & genomic & ATAC-seq & BioSample: https://www.ncbi.nlm.nih.gov/biosample/SAMN12541243 & SRA: https://www.ncbi.nlm.nih.gov/sra?term=SRX6685299 & NONE                                                                                                      & HNSCC cell line SCC1 & 2 & PBS      \\\\\n",
       "\tGSM4021918 & SCC1PBS\\_replicate3 & GSM4021918 & Public on May 04 2020 & Aug 08 2019 & May 05 2020 & SRA & 1 & HNSCC cell line & Homo sapiens & cell line: HNSCC cell line SCC1 & ⋯ & Illumina HiSeq 2000 & other & genomic & ATAC-seq & BioSample: https://www.ncbi.nlm.nih.gov/biosample/SAMN12541242 & SRA: https://www.ncbi.nlm.nih.gov/sra?term=SRX6685300 & ftp://ftp.ncbi.nlm.nih.gov/geo/samples/GSM4021nnn/GSM4021918/suppl/GSM4021918\\_SCC1PBS3\\_Peaks.broadPeak.gz & HNSCC cell line SCC1 & 3 & PBS      \\\\\n",
       "\\end{tabular}\n"
      ],
      "text/markdown": [
       "\n",
       "A data.frame: 6 × 46\n",
       "\n",
       "| <!--/--> | title &lt;chr&gt; | geo_accession &lt;chr&gt; | status &lt;chr&gt; | submission_date &lt;chr&gt; | last_update_date &lt;chr&gt; | type &lt;chr&gt; | channel_count &lt;chr&gt; | source_name_ch1 &lt;chr&gt; | organism_ch1 &lt;chr&gt; | characteristics_ch1 &lt;chr&gt; | ⋯ ⋯ | instrument_model &lt;chr&gt; | library_selection &lt;chr&gt; | library_source &lt;chr&gt; | library_strategy &lt;chr&gt; | relation &lt;chr&gt; | relation.1 &lt;chr&gt; | supplementary_file_1 &lt;chr&gt; | cell line:ch1 &lt;chr&gt; | replicate:ch1 &lt;chr&gt; | treatment:ch1 &lt;chr&gt; |\n",
       "|---|---|---|---|---|---|---|---|---|---|---|---|---|---|---|---|---|---|---|---|---|---|\n",
       "| GSM4021913 | SCC1CTX_replicate1 | GSM4021913 | Public on May 04 2020 | Aug 08 2019 | May 05 2020 | SRA | 1 | HNSCC cell line | Homo sapiens | cell line: HNSCC cell line SCC1 | ⋯ | Illumina HiSeq 2000 | other | genomic | ATAC-seq | BioSample: https://www.ncbi.nlm.nih.gov/biosample/SAMN12541247 | SRA: https://www.ncbi.nlm.nih.gov/sra?term=SRX6685295 | ftp://ftp.ncbi.nlm.nih.gov/geo/samples/GSM4021nnn/GSM4021913/suppl/GSM4021913_SCC1CTX1_Peaks.broadPeak.gz | HNSCC cell line SCC1 | 1 | cetuximab |\n",
       "| GSM4021914 | SCC1CTX_replicate2 | GSM4021914 | Public on May 04 2020 | Aug 08 2019 | May 05 2020 | SRA | 1 | HNSCC cell line | Homo sapiens | cell line: HNSCC cell line SCC1 | ⋯ | Illumina HiSeq 2000 | other | genomic | ATAC-seq | BioSample: https://www.ncbi.nlm.nih.gov/biosample/SAMN12541246 | SRA: https://www.ncbi.nlm.nih.gov/sra?term=SRX6685296 | ftp://ftp.ncbi.nlm.nih.gov/geo/samples/GSM4021nnn/GSM4021914/suppl/GSM4021914_SCC1CTX2_Peaks.broadPeak.gz | HNSCC cell line SCC1 | 2 | cetuximab |\n",
       "| GSM4021915 | SCC1CTX_replicate3 | GSM4021915 | Public on May 04 2020 | Aug 08 2019 | May 05 2020 | SRA | 1 | HNSCC cell line | Homo sapiens | cell line: HNSCC cell line SCC1 | ⋯ | Illumina HiSeq 2000 | other | genomic | ATAC-seq | BioSample: https://www.ncbi.nlm.nih.gov/biosample/SAMN12541245 | SRA: https://www.ncbi.nlm.nih.gov/sra?term=SRX6685297 | ftp://ftp.ncbi.nlm.nih.gov/geo/samples/GSM4021nnn/GSM4021915/suppl/GSM4021915_SCC1CTX3_Peaks.broadPeak.gz | HNSCC cell line SCC1 | 3 | cetuximab |\n",
       "| GSM4021916 | SCC1PBS_replicate1 | GSM4021916 | Public on May 04 2020 | Aug 08 2019 | May 05 2020 | SRA | 1 | HNSCC cell line | Homo sapiens | cell line: HNSCC cell line SCC1 | ⋯ | Illumina HiSeq 2000 | other | genomic | ATAC-seq | BioSample: https://www.ncbi.nlm.nih.gov/biosample/SAMN12541244 | SRA: https://www.ncbi.nlm.nih.gov/sra?term=SRX6685298 | ftp://ftp.ncbi.nlm.nih.gov/geo/samples/GSM4021nnn/GSM4021916/suppl/GSM4021916_SCC1PBS1_Peaks.broadPeak.gz | HNSCC cell line SCC1 | 1 | PBS       |\n",
       "| GSM4021917 | SCC1PBS_replicate2 | GSM4021917 | Public on May 04 2020 | Aug 08 2019 | May 04 2020 | SRA | 1 | HNSCC cell line | Homo sapiens | cell line: HNSCC cell line SCC1 | ⋯ | Illumina HiSeq 2000 | other | genomic | ATAC-seq | BioSample: https://www.ncbi.nlm.nih.gov/biosample/SAMN12541243 | SRA: https://www.ncbi.nlm.nih.gov/sra?term=SRX6685299 | NONE                                                                                                      | HNSCC cell line SCC1 | 2 | PBS       |\n",
       "| GSM4021918 | SCC1PBS_replicate3 | GSM4021918 | Public on May 04 2020 | Aug 08 2019 | May 05 2020 | SRA | 1 | HNSCC cell line | Homo sapiens | cell line: HNSCC cell line SCC1 | ⋯ | Illumina HiSeq 2000 | other | genomic | ATAC-seq | BioSample: https://www.ncbi.nlm.nih.gov/biosample/SAMN12541242 | SRA: https://www.ncbi.nlm.nih.gov/sra?term=SRX6685300 | ftp://ftp.ncbi.nlm.nih.gov/geo/samples/GSM4021nnn/GSM4021918/suppl/GSM4021918_SCC1PBS3_Peaks.broadPeak.gz | HNSCC cell line SCC1 | 3 | PBS       |\n",
       "\n"
      ],
      "text/plain": [
       "           title              geo_accession status               \n",
       "GSM4021913 SCC1CTX_replicate1 GSM4021913    Public on May 04 2020\n",
       "GSM4021914 SCC1CTX_replicate2 GSM4021914    Public on May 04 2020\n",
       "GSM4021915 SCC1CTX_replicate3 GSM4021915    Public on May 04 2020\n",
       "GSM4021916 SCC1PBS_replicate1 GSM4021916    Public on May 04 2020\n",
       "GSM4021917 SCC1PBS_replicate2 GSM4021917    Public on May 04 2020\n",
       "GSM4021918 SCC1PBS_replicate3 GSM4021918    Public on May 04 2020\n",
       "           submission_date last_update_date type channel_count source_name_ch1\n",
       "GSM4021913 Aug 08 2019     May 05 2020      SRA  1             HNSCC cell line\n",
       "GSM4021914 Aug 08 2019     May 05 2020      SRA  1             HNSCC cell line\n",
       "GSM4021915 Aug 08 2019     May 05 2020      SRA  1             HNSCC cell line\n",
       "GSM4021916 Aug 08 2019     May 05 2020      SRA  1             HNSCC cell line\n",
       "GSM4021917 Aug 08 2019     May 04 2020      SRA  1             HNSCC cell line\n",
       "GSM4021918 Aug 08 2019     May 05 2020      SRA  1             HNSCC cell line\n",
       "           organism_ch1 characteristics_ch1             ⋯ instrument_model   \n",
       "GSM4021913 Homo sapiens cell line: HNSCC cell line SCC1 ⋯ Illumina HiSeq 2000\n",
       "GSM4021914 Homo sapiens cell line: HNSCC cell line SCC1 ⋯ Illumina HiSeq 2000\n",
       "GSM4021915 Homo sapiens cell line: HNSCC cell line SCC1 ⋯ Illumina HiSeq 2000\n",
       "GSM4021916 Homo sapiens cell line: HNSCC cell line SCC1 ⋯ Illumina HiSeq 2000\n",
       "GSM4021917 Homo sapiens cell line: HNSCC cell line SCC1 ⋯ Illumina HiSeq 2000\n",
       "GSM4021918 Homo sapiens cell line: HNSCC cell line SCC1 ⋯ Illumina HiSeq 2000\n",
       "           library_selection library_source library_strategy\n",
       "GSM4021913 other             genomic        ATAC-seq        \n",
       "GSM4021914 other             genomic        ATAC-seq        \n",
       "GSM4021915 other             genomic        ATAC-seq        \n",
       "GSM4021916 other             genomic        ATAC-seq        \n",
       "GSM4021917 other             genomic        ATAC-seq        \n",
       "GSM4021918 other             genomic        ATAC-seq        \n",
       "           relation                                                      \n",
       "GSM4021913 BioSample: https://www.ncbi.nlm.nih.gov/biosample/SAMN12541247\n",
       "GSM4021914 BioSample: https://www.ncbi.nlm.nih.gov/biosample/SAMN12541246\n",
       "GSM4021915 BioSample: https://www.ncbi.nlm.nih.gov/biosample/SAMN12541245\n",
       "GSM4021916 BioSample: https://www.ncbi.nlm.nih.gov/biosample/SAMN12541244\n",
       "GSM4021917 BioSample: https://www.ncbi.nlm.nih.gov/biosample/SAMN12541243\n",
       "GSM4021918 BioSample: https://www.ncbi.nlm.nih.gov/biosample/SAMN12541242\n",
       "           relation.1                                           \n",
       "GSM4021913 SRA: https://www.ncbi.nlm.nih.gov/sra?term=SRX6685295\n",
       "GSM4021914 SRA: https://www.ncbi.nlm.nih.gov/sra?term=SRX6685296\n",
       "GSM4021915 SRA: https://www.ncbi.nlm.nih.gov/sra?term=SRX6685297\n",
       "GSM4021916 SRA: https://www.ncbi.nlm.nih.gov/sra?term=SRX6685298\n",
       "GSM4021917 SRA: https://www.ncbi.nlm.nih.gov/sra?term=SRX6685299\n",
       "GSM4021918 SRA: https://www.ncbi.nlm.nih.gov/sra?term=SRX6685300\n",
       "           supplementary_file_1                                                                                     \n",
       "GSM4021913 ftp://ftp.ncbi.nlm.nih.gov/geo/samples/GSM4021nnn/GSM4021913/suppl/GSM4021913_SCC1CTX1_Peaks.broadPeak.gz\n",
       "GSM4021914 ftp://ftp.ncbi.nlm.nih.gov/geo/samples/GSM4021nnn/GSM4021914/suppl/GSM4021914_SCC1CTX2_Peaks.broadPeak.gz\n",
       "GSM4021915 ftp://ftp.ncbi.nlm.nih.gov/geo/samples/GSM4021nnn/GSM4021915/suppl/GSM4021915_SCC1CTX3_Peaks.broadPeak.gz\n",
       "GSM4021916 ftp://ftp.ncbi.nlm.nih.gov/geo/samples/GSM4021nnn/GSM4021916/suppl/GSM4021916_SCC1PBS1_Peaks.broadPeak.gz\n",
       "GSM4021917 NONE                                                                                                     \n",
       "GSM4021918 ftp://ftp.ncbi.nlm.nih.gov/geo/samples/GSM4021nnn/GSM4021918/suppl/GSM4021918_SCC1PBS3_Peaks.broadPeak.gz\n",
       "           cell line:ch1        replicate:ch1 treatment:ch1\n",
       "GSM4021913 HNSCC cell line SCC1 1             cetuximab    \n",
       "GSM4021914 HNSCC cell line SCC1 2             cetuximab    \n",
       "GSM4021915 HNSCC cell line SCC1 3             cetuximab    \n",
       "GSM4021916 HNSCC cell line SCC1 1             PBS          \n",
       "GSM4021917 HNSCC cell line SCC1 2             PBS          \n",
       "GSM4021918 HNSCC cell line SCC1 3             PBS          "
      ]
     },
     "metadata": {},
     "output_type": "display_data"
    }
   ],
   "source": [
    "# Download and parse the ATAC-Seq data from GEO\n",
    "gse <- getGEO(gse_id, GSEMatrix = TRUE, AnnotGPL = TRUE)\n",
    "\n",
    "# Extract metadata from the dataset\n",
    "metadata <- pData(gse[[1]])\n",
    "\n",
    "# Display the first few rows to inspect metadata\n",
    "head(metadata)\n"
   ]
  },
  {
   "cell_type": "markdown",
   "id": "b19279c8",
   "metadata": {},
   "source": [
    "### Step 1.3: Quality Control on Raw Reads\n",
    "\n",
    "Assessing the quality of raw ATAC-Seq reads is essential to identify and correct any sequencing issues that could impact subsequent steps. This includes looking for problems like low-quality bases, adapter contamination, or GC bias. For this, we use two tools:\n",
    "\n",
    "1. **FastQC** - Provides a detailed quality report for each individual FASTQ file.\n",
    "2. **MultiQC** - Aggregates and visualizes quality metrics across all FastQC outputs, allowing us to inspect data consistency and detect any outliers.\n",
    "\n",
    "#### Running FastQC\n",
    "\n",
    "Below, we execute FastQC on each raw FASTQ file, followed by MultiQC to summarize the results. FastQC generates a report for each file, which MultiQC then consolidates.\n"
   ]
  },
  {
   "cell_type": "code",
   "execution_count": 1,
   "id": "7b3f3b00",
   "metadata": {},
   "outputs": [
    {
     "ename": "FileNotFoundError",
     "evalue": "[Errno 2] No such file or directory: '../data/raw/ATAC_Seq'",
     "output_type": "error",
     "traceback": [
      "\u001b[0;31m---------------------------------------------------------------------------\u001b[0m",
      "\u001b[0;31mFileNotFoundError\u001b[0m                         Traceback (most recent call last)",
      "Cell \u001b[0;32mIn[1], line 11\u001b[0m\n\u001b[1;32m      8\u001b[0m os\u001b[38;5;241m.\u001b[39mmakedirs(qc_output_dir, exist_ok\u001b[38;5;241m=\u001b[39m\u001b[38;5;28;01mTrue\u001b[39;00m)\n\u001b[1;32m     10\u001b[0m \u001b[38;5;66;03m# List all FASTQ files\u001b[39;00m\n\u001b[0;32m---> 11\u001b[0m fastq_files \u001b[38;5;241m=\u001b[39m [f \u001b[38;5;28;01mfor\u001b[39;00m f \u001b[38;5;129;01min\u001b[39;00m \u001b[43mos\u001b[49m\u001b[38;5;241;43m.\u001b[39;49m\u001b[43mlistdir\u001b[49m\u001b[43m(\u001b[49m\u001b[43mfastq_dir\u001b[49m\u001b[43m)\u001b[49m \u001b[38;5;28;01mif\u001b[39;00m f\u001b[38;5;241m.\u001b[39mendswith(\u001b[38;5;124m\"\u001b[39m\u001b[38;5;124m.fastq\u001b[39m\u001b[38;5;124m\"\u001b[39m)]\n\u001b[1;32m     13\u001b[0m \u001b[38;5;66;03m# Run FastQC on each FASTQ file\u001b[39;00m\n\u001b[1;32m     14\u001b[0m \u001b[38;5;28;01mfor\u001b[39;00m fastq_file \u001b[38;5;129;01min\u001b[39;00m fastq_files:\n",
      "\u001b[0;31mFileNotFoundError\u001b[0m: [Errno 2] No such file or directory: '../data/raw/ATAC_Seq'"
     ]
    }
   ],
   "source": [
    "# Import necessary libraries\n",
    "import os\n",
    "from subprocess import run\n",
    "\n",
    "# Define directories\n",
    "fastq_dir = \"../data/raw/ATAC_Seq\"  # Directory containing raw FASTQ files\n",
    "qc_output_dir = \"../results/ATAC_Seq/quality_control\"  # Directory for FastQC output\n",
    "os.makedirs(qc_output_dir, exist_ok=True)\n",
    "\n",
    "# List all FASTQ files\n",
    "fastq_files = [f for f in os.listdir(fastq_dir) if f.endswith(\".fastq\")]\n",
    "\n",
    "# Run FastQC on each FASTQ file\n",
    "for fastq_file in fastq_files:\n",
    "    fastq_path = os.path.join(fastq_dir, fastq_file)\n",
    "    run([\"fastqc\", fastq_path, \"-o\", qc_output_dir])\n",
    "\n",
    "print(\"FastQC analysis complete. Reports saved in:\", qc_output_dir)\n"
   ]
  },
  {
   "cell_type": "markdown",
   "id": "0683b9bf",
   "metadata": {},
   "source": [
    "#### Aggregating Results with MultiQC\n",
    "\n",
    "Once FastQC completes, we use MultiQC to compile all individual reports into a single summary, providing an overview of the quality across all samples.\n"
   ]
  },
  {
   "cell_type": "code",
   "execution_count": null,
   "id": "1a60a597",
   "metadata": {},
   "outputs": [],
   "source": []
  },
  {
   "cell_type": "code",
   "execution_count": 5,
   "id": "3813b6ca",
   "metadata": {},
   "outputs": [
    {
     "name": "stderr",
     "output_type": "stream",
     "text": [
      "File already exists: ../data/processed/ATAC_Seq/peak_files/GSM4021913_SCC1CTX1_Peaks.broadPeak.gz. Skipping download.\n",
      "\n",
      "File already exists: ../data/processed/ATAC_Seq/peak_files/GSM4021914_SCC1CTX2_Peaks.broadPeak.gz. Skipping download.\n",
      "\n",
      "File already exists: ../data/processed/ATAC_Seq/peak_files/GSM4021915_SCC1CTX3_Peaks.broadPeak.gz. Skipping download.\n",
      "\n",
      "File already exists: ../data/processed/ATAC_Seq/peak_files/GSM4021916_SCC1PBS1_Peaks.broadPeak.gz. Skipping download.\n",
      "\n",
      "File already exists: ../data/processed/ATAC_Seq/peak_files/GSM4021918_SCC1PBS3_Peaks.broadPeak.gz. Skipping download.\n",
      "\n",
      "File already exists: ../data/processed/ATAC_Seq/peak_files/GSM4021919_SCC6CTX1_Peaks.broadPeak.gz. Skipping download.\n",
      "\n",
      "File already exists: ../data/processed/ATAC_Seq/peak_files/GSM4021920_SCC6CTX2_Peaks.broadPeak.gz. Skipping download.\n",
      "\n",
      "File already exists: ../data/processed/ATAC_Seq/peak_files/GSM4021921_SCC6CTX3_Peaks.broadPeak.gz. Skipping download.\n",
      "\n",
      "File already exists: ../data/processed/ATAC_Seq/peak_files/GSM4021922_SCC6PBS1_Peaks.broadPeak.gz. Skipping download.\n",
      "\n",
      "File already exists: ../data/processed/ATAC_Seq/peak_files/GSM4021923_SCC6PBS2_Peaks.broadPeak.gz. Skipping download.\n",
      "\n",
      "File already exists: ../data/processed/ATAC_Seq/peak_files/GSM4021924_SCC6PBS3_Peaks.broadPeak.gz. Skipping download.\n",
      "\n",
      "File already exists: ../data/processed/ATAC_Seq/peak_files/GSM4021925_SCC25CTX1_Peaks.broadPeak.gz. Skipping download.\n",
      "\n",
      "File already exists: ../data/processed/ATAC_Seq/peak_files/GSM4021926_SCC25CTX2_Peaks.broadPeak.gz. Skipping download.\n",
      "\n",
      "File already exists: ../data/processed/ATAC_Seq/peak_files/GSM4021927_SCC25CTX3_Peaks.broadPeak.gz. Skipping download.\n",
      "\n",
      "File already exists: ../data/processed/ATAC_Seq/peak_files/GSM4021928_SCC25PBS1_Peaks.broadPeak.gz. Skipping download.\n",
      "\n",
      "File already exists: ../data/processed/ATAC_Seq/peak_files/GSM4021929_SCC25PBS2_Peaks.broadPeak.gz. Skipping download.\n",
      "\n",
      "File already exists: ../data/processed/ATAC_Seq/peak_files/GSM4021930_SCC25PBS3_Peaks.broadPeak.gz. Skipping download.\n",
      "\n",
      "Download process completed. Files are in directory: ../data/processed/ATAC_Seq/peak_files\n",
      "\n",
      "List of downloaded files:\n",
      "\n"
     ]
    },
    {
     "name": "stdout",
     "output_type": "stream",
     "text": [
      " [1] \"../data/processed/ATAC_Seq/peak_files/GSM4021913_SCC1CTX1_Peaks.broadPeak.gz\" \n",
      " [2] \"../data/processed/ATAC_Seq/peak_files/GSM4021914_SCC1CTX2_Peaks.broadPeak.gz\" \n",
      " [3] \"../data/processed/ATAC_Seq/peak_files/GSM4021915_SCC1CTX3_Peaks.broadPeak.gz\" \n",
      " [4] \"../data/processed/ATAC_Seq/peak_files/GSM4021916_SCC1PBS1_Peaks.broadPeak.gz\" \n",
      " [5] \"../data/processed/ATAC_Seq/peak_files/GSM4021918_SCC1PBS3_Peaks.broadPeak.gz\" \n",
      " [6] \"../data/processed/ATAC_Seq/peak_files/GSM4021919_SCC6CTX1_Peaks.broadPeak.gz\" \n",
      " [7] \"../data/processed/ATAC_Seq/peak_files/GSM4021920_SCC6CTX2_Peaks.broadPeak.gz\" \n",
      " [8] \"../data/processed/ATAC_Seq/peak_files/GSM4021921_SCC6CTX3_Peaks.broadPeak.gz\" \n",
      " [9] \"../data/processed/ATAC_Seq/peak_files/GSM4021922_SCC6PBS1_Peaks.broadPeak.gz\" \n",
      "[10] \"../data/processed/ATAC_Seq/peak_files/GSM4021923_SCC6PBS2_Peaks.broadPeak.gz\" \n",
      "[11] \"../data/processed/ATAC_Seq/peak_files/GSM4021924_SCC6PBS3_Peaks.broadPeak.gz\" \n",
      "[12] \"../data/processed/ATAC_Seq/peak_files/GSM4021925_SCC25CTX1_Peaks.broadPeak.gz\"\n",
      "[13] \"../data/processed/ATAC_Seq/peak_files/GSM4021926_SCC25CTX2_Peaks.broadPeak.gz\"\n",
      "[14] \"../data/processed/ATAC_Seq/peak_files/GSM4021927_SCC25CTX3_Peaks.broadPeak.gz\"\n",
      "[15] \"../data/processed/ATAC_Seq/peak_files/GSM4021928_SCC25PBS1_Peaks.broadPeak.gz\"\n",
      "[16] \"../data/processed/ATAC_Seq/peak_files/GSM4021929_SCC25PBS2_Peaks.broadPeak.gz\"\n",
      "[17] \"../data/processed/ATAC_Seq/peak_files/GSM4021930_SCC25PBS3_Peaks.broadPeak.gz\"\n"
     ]
    }
   ],
   "source": [
    "# URLs of peak files from metadata\n",
    "peak_file_urls <- metadata$supplementary_file_1\n",
    "\n",
    "# Filter out invalid or missing URLs\n",
    "valid_urls <- peak_file_urls[peak_file_urls != \"NONE\" & peak_file_urls != \"\" & !is.na(peak_file_urls)]\n",
    "\n",
    "# Create a directory for downloaded peak files\n",
    "download_dir <- \"../data/processed/ATAC_Seq/peak_files\"\n",
    "dir.create(download_dir, showWarnings = FALSE, recursive = TRUE)\n",
    "\n",
    "# Download each valid peak file, avoiding duplicates\n",
    "for (url in valid_urls) {\n",
    "    # Set the destination file path\n",
    "    destfile <- paste0(download_dir, \"/\", basename(url))\n",
    "    \n",
    "    # Check if the file already exists to avoid duplicate downloads\n",
    "    if (!file.exists(destfile)) {\n",
    "        tryCatch(\n",
    "            {\n",
    "                # Download the file\n",
    "                download.file(url, destfile = destfile, method = \"curl\")\n",
    "                # Print a message confirming successful download\n",
    "                message(sprintf(\"Downloaded: %s\", destfile))\n",
    "            },\n",
    "            error = function(e) {\n",
    "                message(sprintf(\"Failed to download URL: %s. Error: %s\", url, e$message))\n",
    "            }\n",
    "        )\n",
    "    } else {\n",
    "        # Print a message confirming the file already exists\n",
    "        message(sprintf(\"File already exists: %s. Skipping download.\", destfile))\n",
    "    }\n",
    "}\n",
    "\n",
    "# Print completion message\n",
    "message(\"Download process completed. Files are in directory: \", download_dir)\n",
    "\n",
    "# List all files in the directory and print them\n",
    "downloaded_files <- list.files(path = download_dir, full.names = TRUE)\n",
    "message(\"List of downloaded files:\")\n",
    "print(downloaded_files)\n"
   ]
  },
  {
   "cell_type": "code",
   "execution_count": 6,
   "id": "f0cc64e1",
   "metadata": {},
   "outputs": [
    {
     "data": {
      "text/html": [
       "<table class=\"dataframe\">\n",
       "<caption>A data.frame: 6 × 9</caption>\n",
       "<thead>\n",
       "\t<tr><th></th><th scope=col>chrom</th><th scope=col>start</th><th scope=col>end</th><th scope=col>name</th><th scope=col>score</th><th scope=col>signalValue</th><th scope=col>pValue</th><th scope=col>qValue</th><th scope=col>NA</th></tr>\n",
       "\t<tr><th></th><th scope=col>&lt;chr&gt;</th><th scope=col>&lt;int&gt;</th><th scope=col>&lt;int&gt;</th><th scope=col>&lt;chr&gt;</th><th scope=col>&lt;int&gt;</th><th scope=col>&lt;chr&gt;</th><th scope=col>&lt;dbl&gt;</th><th scope=col>&lt;dbl&gt;</th><th scope=col>&lt;dbl&gt;</th></tr>\n",
       "</thead>\n",
       "<tbody>\n",
       "\t<tr><th scope=row>1</th><td>chr1</td><td> 10052</td><td> 10424</td><td>SCC1CTX1_broad_MACS2_peak_1</td><td> 39</td><td>.</td><td>3.68393</td><td> 5.93781</td><td> 3.90582</td></tr>\n",
       "\t<tr><th scope=row>2</th><td>chr1</td><td> 29282</td><td> 29411</td><td>SCC1CTX1_broad_MACS2_peak_2</td><td> 24</td><td>.</td><td>2.81971</td><td> 4.13784</td><td> 2.46230</td></tr>\n",
       "\t<tr><th scope=row>3</th><td>chr1</td><td>237709</td><td>237802</td><td>SCC1CTX1_broad_MACS2_peak_3</td><td> 30</td><td>.</td><td>3.17838</td><td> 4.90105</td><td> 3.07764</td></tr>\n",
       "\t<tr><th scope=row>4</th><td>chr1</td><td>412081</td><td>412154</td><td>SCC1CTX1_broad_MACS2_peak_4</td><td>  7</td><td>.</td><td>1.50646</td><td> 1.72497</td><td> 0.71915</td></tr>\n",
       "\t<tr><th scope=row>5</th><td>chr1</td><td>521516</td><td>521613</td><td>SCC1CTX1_broad_MACS2_peak_5</td><td> 28</td><td>.</td><td>3.27398</td><td> 4.81997</td><td> 2.85486</td></tr>\n",
       "\t<tr><th scope=row>6</th><td>chr1</td><td>714068</td><td>714510</td><td>SCC1CTX1_broad_MACS2_peak_8</td><td>107</td><td>.</td><td>1.07030</td><td>13.26493</td><td>10.73899</td></tr>\n",
       "</tbody>\n",
       "</table>\n"
      ],
      "text/latex": [
       "A data.frame: 6 × 9\n",
       "\\begin{tabular}{r|lllllllll}\n",
       "  & chrom & start & end & name & score & signalValue & pValue & qValue & NA\\\\\n",
       "  & <chr> & <int> & <int> & <chr> & <int> & <chr> & <dbl> & <dbl> & <dbl>\\\\\n",
       "\\hline\n",
       "\t1 & chr1 &  10052 &  10424 & SCC1CTX1\\_broad\\_MACS2\\_peak\\_1 &  39 & . & 3.68393 &  5.93781 &  3.90582\\\\\n",
       "\t2 & chr1 &  29282 &  29411 & SCC1CTX1\\_broad\\_MACS2\\_peak\\_2 &  24 & . & 2.81971 &  4.13784 &  2.46230\\\\\n",
       "\t3 & chr1 & 237709 & 237802 & SCC1CTX1\\_broad\\_MACS2\\_peak\\_3 &  30 & . & 3.17838 &  4.90105 &  3.07764\\\\\n",
       "\t4 & chr1 & 412081 & 412154 & SCC1CTX1\\_broad\\_MACS2\\_peak\\_4 &   7 & . & 1.50646 &  1.72497 &  0.71915\\\\\n",
       "\t5 & chr1 & 521516 & 521613 & SCC1CTX1\\_broad\\_MACS2\\_peak\\_5 &  28 & . & 3.27398 &  4.81997 &  2.85486\\\\\n",
       "\t6 & chr1 & 714068 & 714510 & SCC1CTX1\\_broad\\_MACS2\\_peak\\_8 & 107 & . & 1.07030 & 13.26493 & 10.73899\\\\\n",
       "\\end{tabular}\n"
      ],
      "text/markdown": [
       "\n",
       "A data.frame: 6 × 9\n",
       "\n",
       "| <!--/--> | chrom &lt;chr&gt; | start &lt;int&gt; | end &lt;int&gt; | name &lt;chr&gt; | score &lt;int&gt; | signalValue &lt;chr&gt; | pValue &lt;dbl&gt; | qValue &lt;dbl&gt; | NA &lt;dbl&gt; |\n",
       "|---|---|---|---|---|---|---|---|---|---|\n",
       "| 1 | chr1 |  10052 |  10424 | SCC1CTX1_broad_MACS2_peak_1 |  39 | . | 3.68393 |  5.93781 |  3.90582 |\n",
       "| 2 | chr1 |  29282 |  29411 | SCC1CTX1_broad_MACS2_peak_2 |  24 | . | 2.81971 |  4.13784 |  2.46230 |\n",
       "| 3 | chr1 | 237709 | 237802 | SCC1CTX1_broad_MACS2_peak_3 |  30 | . | 3.17838 |  4.90105 |  3.07764 |\n",
       "| 4 | chr1 | 412081 | 412154 | SCC1CTX1_broad_MACS2_peak_4 |   7 | . | 1.50646 |  1.72497 |  0.71915 |\n",
       "| 5 | chr1 | 521516 | 521613 | SCC1CTX1_broad_MACS2_peak_5 |  28 | . | 3.27398 |  4.81997 |  2.85486 |\n",
       "| 6 | chr1 | 714068 | 714510 | SCC1CTX1_broad_MACS2_peak_8 | 107 | . | 1.07030 | 13.26493 | 10.73899 |\n",
       "\n"
      ],
      "text/plain": [
       "  chrom start  end    name                        score signalValue pValue \n",
       "1 chr1   10052  10424 SCC1CTX1_broad_MACS2_peak_1  39   .           3.68393\n",
       "2 chr1   29282  29411 SCC1CTX1_broad_MACS2_peak_2  24   .           2.81971\n",
       "3 chr1  237709 237802 SCC1CTX1_broad_MACS2_peak_3  30   .           3.17838\n",
       "4 chr1  412081 412154 SCC1CTX1_broad_MACS2_peak_4   7   .           1.50646\n",
       "5 chr1  521516 521613 SCC1CTX1_broad_MACS2_peak_5  28   .           3.27398\n",
       "6 chr1  714068 714510 SCC1CTX1_broad_MACS2_peak_8 107   .           1.07030\n",
       "  qValue   <NA>    \n",
       "1  5.93781  3.90582\n",
       "2  4.13784  2.46230\n",
       "3  4.90105  3.07764\n",
       "4  1.72497  0.71915\n",
       "5  4.81997  2.85486\n",
       "6 13.26493 10.73899"
      ]
     },
     "metadata": {},
     "output_type": "display_data"
    },
    {
     "name": "stderr",
     "output_type": "stream",
     "text": [
      "Loading required package: stats4\n",
      "\n",
      "Loading required package: S4Vectors\n",
      "\n",
      "\n",
      "Attaching package: ‘S4Vectors’\n",
      "\n",
      "\n",
      "The following objects are masked from ‘package:dplyr’:\n",
      "\n",
      "    first, rename\n",
      "\n",
      "\n",
      "The following object is masked from ‘package:utils’:\n",
      "\n",
      "    findMatches\n",
      "\n",
      "\n",
      "The following objects are masked from ‘package:base’:\n",
      "\n",
      "    expand.grid, I, unname\n",
      "\n",
      "\n",
      "Loading required package: IRanges\n",
      "\n",
      "\n",
      "Attaching package: ‘IRanges’\n",
      "\n",
      "\n",
      "The following objects are masked from ‘package:dplyr’:\n",
      "\n",
      "    collapse, desc, slice\n",
      "\n",
      "\n",
      "Loading required package: GenomeInfoDb\n",
      "\n"
     ]
    },
    {
     "name": "stdout",
     "output_type": "stream",
     "text": [
      "GRanges object with 27086 ranges and 4 metadata columns:\n",
      "          seqnames              ranges strand |     score signalValue    pValue\n",
      "             <Rle>           <IRanges>  <Rle> | <integer> <character> <numeric>\n",
      "      [1]     chr1         10052-10424      * |        39           .   3.68393\n",
      "      [2]     chr1         29282-29411      * |        24           .   2.81971\n",
      "      [3]     chr1       237709-237802      * |        30           .   3.17838\n",
      "      [4]     chr1       412081-412154      * |         7           .   1.50646\n",
      "      [5]     chr1       521516-521613      * |        28           .   3.27398\n",
      "      ...      ...                 ...    ... .       ...         ...       ...\n",
      "  [27082]     chrX 153990845-153991095      * |        26           .   3.19299\n",
      "  [27083]     chrX 154299442-154299819      * |        26           .   3.69747\n",
      "  [27084]     chrX 154444563-154444760      * |        22           .   3.02452\n",
      "  [27085]     chrX 155110851-155111025      * |        25           .   3.06653\n",
      "  [27086]     chrX 155260054-155260360      * |        34           .   3.74708\n",
      "             qValue\n",
      "          <numeric>\n",
      "      [1]   5.93781\n",
      "      [2]   4.13784\n",
      "      [3]   4.90105\n",
      "      [4]   1.72497\n",
      "      [5]   4.81997\n",
      "      ...       ...\n",
      "  [27082]   4.31219\n",
      "  [27083]   4.76624\n",
      "  [27084]   3.95122\n",
      "  [27085]   4.14610\n",
      "  [27086]   5.30253\n",
      "  -------\n",
      "  seqinfo: 23 sequences from an unspecified genome; no seqlengths\n"
     ]
    }
   ],
   "source": [
    "# Manually read the broadPeak file\n",
    "example_peak_file <- downloaded_files[1] # Pick the first peak file as an example to load\n",
    "\n",
    "# Use read.table to manually load the file\n",
    "peaks_df <- read.table(example_peak_file, header = FALSE, sep = \"\\t\", stringsAsFactors = FALSE)\n",
    "\n",
    "# Assign column names to the data frame based on .broadPeak file structure\n",
    "colnames(peaks_df) <- c(\"chrom\", \"start\", \"end\", \"name\", \"score\", \"signalValue\", \"pValue\", \"qValue\")\n",
    "\n",
    "# Display the first few rows to check if it loaded correctly\n",
    "head(peaks_df)\n",
    "\n",
    "# Convert the data frame into a GRanges object for further analysis\n",
    "library(GenomicRanges)\n",
    "\n",
    "peaks_gr <- GRanges(\n",
    "    seqnames = peaks_df$chrom,\n",
    "    ranges = IRanges(start = peaks_df$start, end = peaks_df$end),\n",
    "    score = peaks_df$score,\n",
    "    signalValue = peaks_df$signalValue,\n",
    "    pValue = peaks_df$pValue,\n",
    "    qValue = peaks_df$qValue\n",
    ")\n",
    "\n",
    "# Display some information about the GRanges object\n",
    "print(peaks_gr)\n"
   ]
  },
  {
   "cell_type": "code",
   "execution_count": 7,
   "id": "c705f649",
   "metadata": {},
   "outputs": [
    {
     "data": {
      "image/png": "[encoded data removed]",
      "text/plain": [
       "plot without title"
      ]
     },
     "metadata": {
      "image/png": {
       "height": 420,
       "width": 420
      }
     },
     "output_type": "display_data"
    }
   ],
   "source": [
    "# Analyze peak widths\n",
    "peak_widths <- width(peaks_gr)\n",
    "\n",
    "# Plot the distribution of peak widths\n",
    "library(ggplot2)\n",
    "ggplot(data.frame(Peak_Width = peak_widths), aes(x = Peak_Width)) +\n",
    "    geom_histogram(bins = 30, fill = \"steelblue\", color = \"black\") +\n",
    "    labs(title = \"Distribution of Peak Widths\", x = \"Peak Width (bp)\", y = \"Frequency\")\n"
   ]
  },
  {
   "cell_type": "code",
   "execution_count": 8,
   "id": "79c85e7c",
   "metadata": {},
   "outputs": [
    {
     "data": {
      "text/plain": [
       "   Min. 1st Qu.  Median    Mean 3rd Qu.    Max. \n",
       "   74.0   124.0   192.0   233.6   295.0  1749.0 "
      ]
     },
     "metadata": {},
     "output_type": "display_data"
    }
   ],
   "source": [
    "summary(peak_widths)\n"
   ]
  },
  {
   "cell_type": "code",
   "execution_count": 9,
   "id": "441a0be7",
   "metadata": {},
   "outputs": [
    {
     "name": "stdout",
     "output_type": "stream",
     "text": [
      "Number of control samples: 9 \n"
     ]
    },
    {
     "name": "stdout",
     "output_type": "stream",
     "text": [
      "Number of treatment samples: 9 \n"
     ]
    }
   ],
   "source": [
    "# Assuming metadata is already loaded\n",
    "# Metadata contains treatment information in the column 'treatment:ch1'\n",
    "treatment_column <- \"treatment:ch1\"\n",
    "\n",
    "# Identify control and treatment samples based on the treatment column\n",
    "control_metadata <- metadata[metadata[[treatment_column]] == \"PBS\", ]\n",
    "treatment_metadata <- metadata[metadata[[treatment_column]] == \"cetuximab\", ]\n",
    "\n",
    "# Display a summary of the control and treatment samples\n",
    "cat(\"Number of control samples:\", nrow(control_metadata), \"\\n\")\n",
    "cat(\"Number of treatment samples:\", nrow(treatment_metadata), \"\\n\")\n"
   ]
  },
  {
   "cell_type": "code",
   "execution_count": 10,
   "id": "bab0eb41",
   "metadata": {},
   "outputs": [
    {
     "name": "stdout",
     "output_type": "stream",
     "text": [
      "Control file paths:\n",
      "[1] \"../data/processed/ATAC_Seq/peak_files/GSM4021916_SCC1PBS_replicate1_Peaks.broadPeak.gz\" \n",
      "[2] \"../data/processed/ATAC_Seq/peak_files/GSM4021917_SCC1PBS_replicate2_Peaks.broadPeak.gz\" \n",
      "[3] \"../data/processed/ATAC_Seq/peak_files/GSM4021918_SCC1PBS_replicate3_Peaks.broadPeak.gz\" \n",
      "[4] \"../data/processed/ATAC_Seq/peak_files/GSM4021922_SCC6PBS_replicate1_Peaks.broadPeak.gz\" \n",
      "[5] \"../data/processed/ATAC_Seq/peak_files/GSM4021923_SCC6PBS_replicate2_Peaks.broadPeak.gz\" \n",
      "[6] \"../data/processed/ATAC_Seq/peak_files/GSM4021924_SCC6PBS_replicate3_Peaks.broadPeak.gz\" \n",
      "[7] \"../data/processed/ATAC_Seq/peak_files/GSM4021928_SCC25PBS_replicate1_Peaks.broadPeak.gz\"\n",
      "[8] \"../data/processed/ATAC_Seq/peak_files/GSM4021929_SCC25PBS_replicate2_Peaks.broadPeak.gz\"\n",
      "[9] \"../data/processed/ATAC_Seq/peak_files/GSM4021930_SCC25PBS_replicate3_Peaks.broadPeak.gz\"\n",
      "Treatment file paths:\n",
      "[1] \"../data/processed/ATAC_Seq/peak_files/GSM4021913_SCC1CTX_replicate1_Peaks.broadPeak.gz\" \n",
      "[2] \"../data/processed/ATAC_Seq/peak_files/GSM4021914_SCC1CTX_replicate2_Peaks.broadPeak.gz\" \n",
      "[3] \"../data/processed/ATAC_Seq/peak_files/GSM4021915_SCC1CTX_replicate3_Peaks.broadPeak.gz\" \n",
      "[4] \"../data/processed/ATAC_Seq/peak_files/GSM4021919_SCC6CTX_replicate1_Peaks.broadPeak.gz\" \n",
      "[5] \"../data/processed/ATAC_Seq/peak_files/GSM4021920_SCC6CTX_replicate2_Peaks.broadPeak.gz\" \n",
      "[6] \"../data/processed/ATAC_Seq/peak_files/GSM4021921_SCC6CTX_replicate3_Peaks.broadPeak.gz\" \n",
      "[7] \"../data/processed/ATAC_Seq/peak_files/GSM4021925_SCC25CTX_replicate1_Peaks.broadPeak.gz\"\n",
      "[8] \"../data/processed/ATAC_Seq/peak_files/GSM4021926_SCC25CTX_replicate2_Peaks.broadPeak.gz\"\n",
      "[9] \"../data/processed/ATAC_Seq/peak_files/GSM4021927_SCC25CTX_replicate3_Peaks.broadPeak.gz\"\n"
     ]
    }
   ],
   "source": [
    "# Link GEO accession IDs to their file paths\n",
    "control_metadata$file_path <- paste0(\"../data/processed/ATAC_Seq/peak_files/\", control_metadata$geo_accession, \"_\", control_metadata$title, \"_Peaks.broadPeak.gz\")\n",
    "treatment_metadata$file_path <- paste0(\"../data/processed/ATAC_Seq/peak_files/\", treatment_metadata$geo_accession, \"_\", treatment_metadata$title, \"_Peaks.broadPeak.gz\")\n",
    "\n",
    "# Print file paths for verification\n",
    "cat(\"Control file paths:\\n\")\n",
    "print(control_metadata$file_path)\n",
    "\n",
    "cat(\"Treatment file paths:\\n\")\n",
    "print(treatment_metadata$file_path)\n"
   ]
  },
  {
   "cell_type": "code",
   "execution_count": 11,
   "id": "77d6b577",
   "metadata": {},
   "outputs": [
    {
     "name": "stdout",
     "output_type": "stream",
     "text": [
      "Available Files:\n",
      " [1] \"../data/processed/ATAC_Seq/peak_files/GSM4021913_SCC1CTX1_Peaks.broadPeak.gz\" \n",
      " [2] \"../data/processed/ATAC_Seq/peak_files/GSM4021914_SCC1CTX2_Peaks.broadPeak.gz\" \n",
      " [3] \"../data/processed/ATAC_Seq/peak_files/GSM4021915_SCC1CTX3_Peaks.broadPeak.gz\" \n",
      " [4] \"../data/processed/ATAC_Seq/peak_files/GSM4021916_SCC1PBS1_Peaks.broadPeak.gz\" \n",
      " [5] \"../data/processed/ATAC_Seq/peak_files/GSM4021918_SCC1PBS3_Peaks.broadPeak.gz\" \n",
      " [6] \"../data/processed/ATAC_Seq/peak_files/GSM4021919_SCC6CTX1_Peaks.broadPeak.gz\" \n",
      " [7] \"../data/processed/ATAC_Seq/peak_files/GSM4021920_SCC6CTX2_Peaks.broadPeak.gz\" \n",
      " [8] \"../data/processed/ATAC_Seq/peak_files/GSM4021921_SCC6CTX3_Peaks.broadPeak.gz\" \n",
      " [9] \"../data/processed/ATAC_Seq/peak_files/GSM4021922_SCC6PBS1_Peaks.broadPeak.gz\" \n",
      "[10] \"../data/processed/ATAC_Seq/peak_files/GSM4021923_SCC6PBS2_Peaks.broadPeak.gz\" \n",
      "[11] \"../data/processed/ATAC_Seq/peak_files/GSM4021924_SCC6PBS3_Peaks.broadPeak.gz\" \n",
      "[12] \"../data/processed/ATAC_Seq/peak_files/GSM4021925_SCC25CTX1_Peaks.broadPeak.gz\"\n",
      "[13] \"../data/processed/ATAC_Seq/peak_files/GSM4021926_SCC25CTX2_Peaks.broadPeak.gz\"\n",
      "[14] \"../data/processed/ATAC_Seq/peak_files/GSM4021927_SCC25CTX3_Peaks.broadPeak.gz\"\n",
      "[15] \"../data/processed/ATAC_Seq/peak_files/GSM4021928_SCC25PBS1_Peaks.broadPeak.gz\"\n",
      "[16] \"../data/processed/ATAC_Seq/peak_files/GSM4021929_SCC25PBS2_Peaks.broadPeak.gz\"\n",
      "[17] \"../data/processed/ATAC_Seq/peak_files/GSM4021930_SCC25PBS3_Peaks.broadPeak.gz\"\n"
     ]
    }
   ],
   "source": [
    "# List all files in the directory to confirm available filenames\n",
    "peak_files_directory <- \"../data/processed/ATAC_Seq/peak_files\"\n",
    "available_files <- list.files(path = peak_files_directory, full.names = TRUE)\n",
    "cat(\"Available Files:\\n\")\n",
    "print(available_files)\n"
   ]
  },
  {
   "cell_type": "code",
   "execution_count": 12,
   "id": "0f4d3243",
   "metadata": {},
   "outputs": [
    {
     "name": "stdout",
     "output_type": "stream",
     "text": [
      "Control Metadata File Paths:\n",
      "[1] \"../data/processed/ATAC_Seq/peak_files/GSM4021916_SCC1PBS_replicate1_Peaks.broadPeak.gz\" \n",
      "[2] \"../data/processed/ATAC_Seq/peak_files/GSM4021917_SCC1PBS_replicate2_Peaks.broadPeak.gz\" \n",
      "[3] \"../data/processed/ATAC_Seq/peak_files/GSM4021918_SCC1PBS_replicate3_Peaks.broadPeak.gz\" \n",
      "[4] \"../data/processed/ATAC_Seq/peak_files/GSM4021922_SCC6PBS_replicate1_Peaks.broadPeak.gz\" \n",
      "[5] \"../data/processed/ATAC_Seq/peak_files/GSM4021923_SCC6PBS_replicate2_Peaks.broadPeak.gz\" \n",
      "[6] \"../data/processed/ATAC_Seq/peak_files/GSM4021924_SCC6PBS_replicate3_Peaks.broadPeak.gz\" \n",
      "[7] \"../data/processed/ATAC_Seq/peak_files/GSM4021928_SCC25PBS_replicate1_Peaks.broadPeak.gz\"\n",
      "[8] \"../data/processed/ATAC_Seq/peak_files/GSM4021929_SCC25PBS_replicate2_Peaks.broadPeak.gz\"\n",
      "[9] \"../data/processed/ATAC_Seq/peak_files/GSM4021930_SCC25PBS_replicate3_Peaks.broadPeak.gz\"\n",
      "Treatment Metadata File Paths:\n",
      "[1] \"../data/processed/ATAC_Seq/peak_files/GSM4021913_SCC1CTX_replicate1_Peaks.broadPeak.gz\" \n",
      "[2] \"../data/processed/ATAC_Seq/peak_files/GSM4021914_SCC1CTX_replicate2_Peaks.broadPeak.gz\" \n",
      "[3] \"../data/processed/ATAC_Seq/peak_files/GSM4021915_SCC1CTX_replicate3_Peaks.broadPeak.gz\" \n",
      "[4] \"../data/processed/ATAC_Seq/peak_files/GSM4021919_SCC6CTX_replicate1_Peaks.broadPeak.gz\" \n",
      "[5] \"../data/processed/ATAC_Seq/peak_files/GSM4021920_SCC6CTX_replicate2_Peaks.broadPeak.gz\" \n",
      "[6] \"../data/processed/ATAC_Seq/peak_files/GSM4021921_SCC6CTX_replicate3_Peaks.broadPeak.gz\" \n",
      "[7] \"../data/processed/ATAC_Seq/peak_files/GSM4021925_SCC25CTX_replicate1_Peaks.broadPeak.gz\"\n",
      "[8] \"../data/processed/ATAC_Seq/peak_files/GSM4021926_SCC25CTX_replicate2_Peaks.broadPeak.gz\"\n",
      "[9] \"../data/processed/ATAC_Seq/peak_files/GSM4021927_SCC25CTX_replicate3_Peaks.broadPeak.gz\"\n"
     ]
    }
   ],
   "source": [
    "# Compare metadata file paths to the available files\n",
    "cat(\"Control Metadata File Paths:\\n\")\n",
    "print(control_metadata$file_path)\n",
    "\n",
    "cat(\"Treatment Metadata File Paths:\\n\")\n",
    "print(treatment_metadata$file_path)\n"
   ]
  },
  {
   "cell_type": "code",
   "execution_count": 13,
   "id": "cea3fbbc",
   "metadata": {},
   "outputs": [
    {
     "name": "stdout",
     "output_type": "stream",
     "text": [
      "Corrected Control File Paths:\n",
      "[1] \"../data/processed/ATAC_Seq/peak_files/GSM4021916_SCC1PBS1_Peaks.broadPeak.gz\" \n",
      "[2] \"../data/processed/ATAC_Seq/peak_files/GSM4021918_SCC1PBS3_Peaks.broadPeak.gz\" \n",
      "[3] \"../data/processed/ATAC_Seq/peak_files/GSM4021922_SCC6PBS1_Peaks.broadPeak.gz\" \n",
      "[4] \"../data/processed/ATAC_Seq/peak_files/GSM4021923_SCC6PBS2_Peaks.broadPeak.gz\" \n",
      "[5] \"../data/processed/ATAC_Seq/peak_files/GSM4021924_SCC6PBS3_Peaks.broadPeak.gz\" \n",
      "[6] \"../data/processed/ATAC_Seq/peak_files/GSM4021928_SCC25PBS1_Peaks.broadPeak.gz\"\n",
      "[7] \"../data/processed/ATAC_Seq/peak_files/GSM4021929_SCC25PBS2_Peaks.broadPeak.gz\"\n",
      "[8] \"../data/processed/ATAC_Seq/peak_files/GSM4021930_SCC25PBS3_Peaks.broadPeak.gz\"\n",
      "Corrected Treatment File Paths:\n",
      "[1] \"../data/processed/ATAC_Seq/peak_files/GSM4021913_SCC1CTX1_Peaks.broadPeak.gz\" \n",
      "[2] \"../data/processed/ATAC_Seq/peak_files/GSM4021914_SCC1CTX2_Peaks.broadPeak.gz\" \n",
      "[3] \"../data/processed/ATAC_Seq/peak_files/GSM4021915_SCC1CTX3_Peaks.broadPeak.gz\" \n",
      "[4] \"../data/processed/ATAC_Seq/peak_files/GSM4021919_SCC6CTX1_Peaks.broadPeak.gz\" \n",
      "[5] \"../data/processed/ATAC_Seq/peak_files/GSM4021920_SCC6CTX2_Peaks.broadPeak.gz\" \n",
      "[6] \"../data/processed/ATAC_Seq/peak_files/GSM4021921_SCC6CTX3_Peaks.broadPeak.gz\" \n",
      "[7] \"../data/processed/ATAC_Seq/peak_files/GSM4021925_SCC25CTX1_Peaks.broadPeak.gz\"\n",
      "[8] \"../data/processed/ATAC_Seq/peak_files/GSM4021926_SCC25CTX2_Peaks.broadPeak.gz\"\n",
      "[9] \"../data/processed/ATAC_Seq/peak_files/GSM4021927_SCC25CTX3_Peaks.broadPeak.gz\"\n"
     ]
    }
   ],
   "source": [
    "# Function to find the correct file path based on GEO accession ID\n",
    "find_correct_path <- function(geo_accession) {\n",
    "    matching_files <- available_files[grepl(geo_accession, available_files)]\n",
    "    if (length(matching_files) > 0) {\n",
    "        return(matching_files[1])\n",
    "    } else {\n",
    "        return(NA) # Return NA if no matching file is found\n",
    "    }\n",
    "}\n",
    "\n",
    "# Update the metadata to include the correct file paths\n",
    "control_metadata$file_path <- sapply(control_metadata$geo_accession, find_correct_path)\n",
    "treatment_metadata$file_path <- sapply(treatment_metadata$geo_accession, find_correct_path)\n",
    "\n",
    "# Remove rows with NA file paths (samples that are missing)\n",
    "control_metadata <- control_metadata[!is.na(control_metadata$file_path), ]\n",
    "treatment_metadata <- treatment_metadata[!is.na(treatment_metadata$file_path), ]\n",
    "\n",
    "# Print the corrected file paths\n",
    "cat(\"Corrected Control File Paths:\\n\")\n",
    "print(control_metadata$file_path)\n",
    "\n",
    "cat(\"Corrected Treatment File Paths:\\n\")\n",
    "print(treatment_metadata$file_path)\n"
   ]
  },
  {
   "cell_type": "code",
   "execution_count": 15,
   "id": "2adcc334",
   "metadata": {},
   "outputs": [
    {
     "ename": "ERROR",
     "evalue": "Error in scan(file = file, what = what, sep = sep, quote = quote, dec = dec, : scan() expected 'an integer', got '3.96522'\n",
     "output_type": "error",
     "traceback": [
      "Error in scan(file = file, what = what, sep = sep, quote = quote, dec = dec, : scan() expected 'an integer', got '3.96522'\nTraceback:\n",
      "1. lapply(control_metadata$file_path, load_broadPeak)",
      "2. lapply(control_metadata$file_path, load_broadPeak)",
      "3. FUN(X[[i]], ...)",
      "4. import(file_path, format = \"BED\")   # at line 6 of file <text>",
      "5. import(file_path, format = \"BED\")",
      "6. import(FileForFormat(con, format), ...)",
      "7. import(FileForFormat(con, format), ...)",
      "8. .local(con, format, text, ...)",
      "9. DataFrame(read.table(con, colClasses = bedClasses, as.is = TRUE, \n .     na.strings = c(\".\", na.strings), comment.char = \"\", sep = sep, \n .     quote = \"\"))",
      "10. read.table(con, colClasses = bedClasses, as.is = TRUE, na.strings = c(\".\", \n  .     na.strings), comment.char = \"\", sep = sep, quote = \"\")",
      "11. scan(file = file, what = what, sep = sep, quote = quote, dec = dec, \n  .     nmax = nrows, skip = 0, na.strings = na.strings, quiet = TRUE, \n  .     fill = fill, strip.white = strip.white, blank.lines.skip = blank.lines.skip, \n  .     multi.line = FALSE, comment.char = comment.char, allowEscapes = allowEscapes, \n  .     flush = flush, encoding = encoding, skipNul = skipNul)"
     ]
    }
   ],
   "source": [
    "library(\"rtracklayer\")\n",
    "library(\"GenomicRanges\")\n",
    "\n",
    "# Function to load broadPeak files using rtracklayer's import function\n",
    "load_broadPeak <- function(file_path) {\n",
    "    import(file_path, format = \"BED\") # broadPeak is essentially a BED-like format\n",
    "}\n",
    "\n",
    "# Load all control and treatment peak files with the corrected paths\n",
    "control_granges_list <- lapply(control_metadata$file_path, load_broadPeak)\n",
    "treatment_granges_list <- lapply(treatment_metadata$file_path, load_broadPeak)\n",
    "\n",
    "# Combine all control and all treatment peaks respectively\n",
    "combined_control_gr <- reduce(do.call(c, control_granges_list))\n",
    "combined_treatment_gr <- reduce(do.call(c, treatment_granges_list))\n",
    "\n",
    "# Summary information\n",
    "cat(\"Number of combined control peaks:\", length(combined_control_gr), \"\\n\")\n",
    "cat(\"Number of combined treatment peaks:\", length(combined_treatment_gr), \"\\n\")\n"
   ]
  },
  {
   "cell_type": "code",
   "execution_count": 21,
   "id": "512775e8",
   "metadata": {},
   "outputs": [
    {
     "ename": "ERROR",
     "evalue": "Error in h(simpleError(msg, call)): error in evaluating the argument 'query' in selecting a method for function 'findOverlaps': object 'combined_treatment_gr' not found\n",
     "output_type": "error",
     "traceback": [
      "Error in h(simpleError(msg, call)): error in evaluating the argument 'query' in selecting a method for function 'findOverlaps': object 'combined_treatment_gr' not found\nTraceback:\n",
      "1. findOverlaps(combined_treatment_gr, combined_control_gr)",
      "2. .handleSimpleError(function (cond) \n . .Internal(C_tryCatchHelper(addr, 1L, cond)), \"object 'combined_treatment_gr' not found\", \n .     base::quote(findOverlaps(combined_treatment_gr, combined_control_gr)))",
      "3. h(simpleError(msg, call))"
     ]
    }
   ],
   "source": [
    "# Find overlapping peaks between combined treatment and control peaks\n",
    "overlapping_peaks <- findOverlaps(combined_treatment_gr, combined_control_gr)\n",
    "\n",
    "# Number of overlapping peaks\n",
    "num_overlapping_peaks <- length(overlapping_peaks)\n",
    "cat(\"Number of overlapping peaks between treatment and control:\", num_overlapping_peaks, \"\\n\")\n",
    "\n",
    "# Find unique peaks in treatment and control\n",
    "unique_treatment_peaks <- setdiff(combined_treatment_gr, combined_control_gr)\n",
    "unique_control_peaks <- setdiff(combined_control_gr, combined_treatment_gr)\n",
    "\n",
    "# Number of unique peaks\n",
    "cat(\"Number of unique peaks in treatment samples:\", length(unique_treatment_peaks), \"\\n\")\n",
    "cat(\"Number of unique peaks in control samples:\", length(unique_control_peaks), \"\\n\")\n"
   ]
  },
  {
   "cell_type": "code",
   "execution_count": 17,
   "id": "f5eb12ad",
   "metadata": {},
   "outputs": [
    {
     "name": "stderr",
     "output_type": "stream",
     "text": [
      "Loading required package: grid\n",
      "\n",
      "Loading required package: futile.logger\n",
      "\n"
     ]
    },
    {
     "data": {
      "image/png": "[encoded data removed]",
      "text/plain": [
       "plot without title"
      ]
     },
     "metadata": {
      "image/png": {
       "height": 420,
       "width": 420
      }
     },
     "output_type": "display_data"
    },
    {
     "data": {
      "image/png": "[encoded data removed]",
      "text/plain": [
       "plot without title"
      ]
     },
     "metadata": {
      "image/png": {
       "height": 420,
       "width": 420
      }
     },
     "output_type": "display_data"
    }
   ],
   "source": [
    "\n",
    "# Load VennDiagram package for visualization\n",
    "library(VennDiagram)\n",
    "\n",
    "# Create a Venn diagram\n",
    "venn.plot <- draw.pairwise.venn(\n",
    "    area1 = length(combined_treatment_gr),\n",
    "    area2 = length(combined_control_gr),\n",
    "    cross.area = num_overlapping_peaks,\n",
    "    category = c(\"Treatment\", \"Control\"),\n",
    "    fill = c(\"red\", \"blue\"),\n",
    "    alpha = 0.5,\n",
    "    lty = \"blank\",\n",
    "    cex = 1.5,\n",
    "    cat.cex = 1.5,\n",
    "    cat.pos = c(-20, 20)\n",
    ")\n",
    "\n",
    "grid.draw(venn.plot)\n"
   ]
  },
  {
   "cell_type": "code",
   "execution_count": 18,
   "id": "88ce462c",
   "metadata": {},
   "outputs": [
    {
     "ename": "ERROR",
     "evalue": "Error in library(ChIPseeker): there is no package called ‘ChIPseeker’\n",
     "output_type": "error",
     "traceback": [
      "Error in library(ChIPseeker): there is no package called ‘ChIPseeker’\nTraceback:\n",
      "1. library(ChIPseeker)"
     ]
    }
   ],
   "source": [
    "# Load the ChIPseeker library for annotation\n",
    "library(ChIPseeker)\n",
    "library(TxDb.Hsapiens.UCSC.hg19.knownGene)\n",
    "\n",
    "# Load TxDb for human genome annotations\n",
    "txdb <- TxDb.Hsapiens.UCSC.hg19.knownGene\n",
    "\n",
    "# Annotate the overlapping peaks\n",
    "overlapping_annotation <- annotatePeak(combined_treatment_gr[overlapping_peaks], TxDb = txdb)\n",
    "cat(\"Annotation of overlapping peaks:\\n\")\n",
    "print(head(as.data.frame(overlapping_annotation)))\n",
    "\n",
    "# Annotate unique treatment peaks\n",
    "unique_treatment_annotation <- annotatePeak(unique_treatment_peaks, TxDb = txdb)\n",
    "cat(\"Annotation of unique treatment peaks:\\n\")\n",
    "print(head(as.data.frame(unique_treatment_annotation)))\n",
    "\n",
    "# Annotate unique control peaks\n",
    "unique_control_annotation <- annotatePeak(unique_control_peaks, TxDb = txdb)\n",
    "cat(\"Annotation of unique control peaks:\\n\")\n",
    "print(head(as.data.frame(unique_control_annotation)))\n"
   ]
  }
 ],
 "metadata": {
  "kernelspec": {
   "display_name": "Python 3",
   "language": "python",
   "name": "python3"
  },
  "language_info": {
   "codemirror_mode": {
    "name": "ipython",
    "version": 3
   },
   "file_extension": ".py",
   "mimetype": "text/x-python",
   "name": "python",
   "nbconvert_exporter": "python",
   "pygments_lexer": "ipython3",
   "version": "3.11.9"
  }
 },
 "nbformat": 4,
 "nbformat_minor": 5
}
